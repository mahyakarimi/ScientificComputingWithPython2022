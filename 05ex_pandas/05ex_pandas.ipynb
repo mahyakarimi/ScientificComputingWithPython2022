{
  "cells": [
    {
      "cell_type": "markdown",
      "metadata": {
        "id": "igg03Mm9u3Z1"
      },
      "source": [
        "1\\. **Pandas DataFrame**\n",
        "\n",
        "This exercise consists in analyzing a dataset containg timing information from a series of Time-to-Digital-Converters (TDC) implemented in a pair of FPGAs. Each measurement (i.e. each row of the input file) consists of a flag that specifies the type of message ('HEAD', which in this case is always 1), two addresses of the TDC providing the signal ('FPGA' and 'TDC_CHANNEL'), and the timing information ('ORBIT_CNT', 'BX_COUNTER', and 'TDC_MEAS'). Each TDC count corresponds to 25/30 ns, whereas a unit of BX_COUNTER corresponds to 25 ns, and the ORBIT_CNT is increased every `x` BX_COUNTER. This allows to store the time in a similar way to hours, minutes and seconds."
      ]
    },
    {
      "cell_type": "code",
      "execution_count": 1,
      "metadata": {
        "colab": {
          "base_uri": "https://localhost:8080/"
        },
        "id": "hGFI8NMxu3Z4",
        "outputId": "717720b9-0289-443a-cfa1-263ba70ec752"
      },
      "outputs": [
        {
          "output_type": "stream",
          "name": "stdout",
          "text": [
            "--2022-12-02 20:01:50--  https://www.dropbox.com/s/xvjzaxzz3ysphme/data_000637.txt\n",
            "Resolving www.dropbox.com (www.dropbox.com)... 162.125.1.18, 2620:100:6016:18::a27d:112\n",
            "Connecting to www.dropbox.com (www.dropbox.com)|162.125.1.18|:443... connected.\n",
            "HTTP request sent, awaiting response... 302 Found\n",
            "Location: /s/raw/xvjzaxzz3ysphme/data_000637.txt [following]\n",
            "--2022-12-02 20:01:50--  https://www.dropbox.com/s/raw/xvjzaxzz3ysphme/data_000637.txt\n",
            "Reusing existing connection to www.dropbox.com:443.\n",
            "HTTP request sent, awaiting response... 302 Found\n",
            "Location: https://uccaf55d8030304f3ededf1cd014.dl.dropboxusercontent.com/cd/0/inline/Bx4p51hma_kmkq5XdfRlBUVeC6H4qZswoatiEBrHzMTJ8702rk73GqZZW8XIL31W_pDaaTW6wcKmUotY-QfB_tWliTvgX4fbXVMV14dAjnM8D9WqLeJBJWXRwBWXHptxjIR1SbRPjGGEoc5VOk1xM-_xy8B5MADgdiYHrlm1dIXUHg/file# [following]\n",
            "--2022-12-02 20:01:51--  https://uccaf55d8030304f3ededf1cd014.dl.dropboxusercontent.com/cd/0/inline/Bx4p51hma_kmkq5XdfRlBUVeC6H4qZswoatiEBrHzMTJ8702rk73GqZZW8XIL31W_pDaaTW6wcKmUotY-QfB_tWliTvgX4fbXVMV14dAjnM8D9WqLeJBJWXRwBWXHptxjIR1SbRPjGGEoc5VOk1xM-_xy8B5MADgdiYHrlm1dIXUHg/file\n",
            "Resolving uccaf55d8030304f3ededf1cd014.dl.dropboxusercontent.com (uccaf55d8030304f3ededf1cd014.dl.dropboxusercontent.com)... 162.125.1.15, 2620:100:6016:15::a27d:10f\n",
            "Connecting to uccaf55d8030304f3ededf1cd014.dl.dropboxusercontent.com (uccaf55d8030304f3ededf1cd014.dl.dropboxusercontent.com)|162.125.1.15|:443... connected.\n",
            "HTTP request sent, awaiting response... 200 OK\n",
            "Length: 33179236 (32M) [text/plain]\n",
            "Saving to: ‘./data/data_000637.txt’\n",
            "\n",
            "data_000637.txt     100%[===================>]  31.64M   143MB/s    in 0.2s    \n",
            "\n",
            "2022-12-02 20:01:51 (143 MB/s) - ‘./data/data_000637.txt’ saved [33179236/33179236]\n",
            "\n"
          ]
        }
      ],
      "source": [
        "# If haven't downloaded it yet, please get the data file with wget\n",
        "!wget https://www.dropbox.com/s/xvjzaxzz3ysphme/data_000637.txt -P ./data/"
      ]
    },
    {
      "cell_type": "markdown",
      "metadata": {
        "id": "FpP9NHGuu3Z5"
      },
      "source": [
        "1\\. Create a Pandas DataFrame reading N rows of the `data/data_000637.txt` dataset. Choose N to be smaller than or equal to the maximum number of rows and larger that 10k (check the documentation)."
      ]
    },
    {
      "cell_type": "code",
      "source": [
        "import pandas as pd\n",
        "import numpy as np"
      ],
      "metadata": {
        "id": "dpmMsvutbKoA"
      },
      "execution_count": 2,
      "outputs": []
    },
    {
      "cell_type": "code",
      "execution_count": 5,
      "metadata": {
        "colab": {
          "base_uri": "https://localhost:8080/",
          "height": 422
        },
        "id": "kLcKV2R3u3Z6",
        "outputId": "708d17dc-7b55-46d8-f969-9190ca5b9c32"
      },
      "outputs": [
        {
          "output_type": "execute_result",
          "data": {
            "text/plain": [
              "       HEAD  FPGA  TDC_CHANNEL   ORBIT_CNT  BX_COUNTER  TDC_MEAS\n",
              "0         1     0          123  3869200167        2374        26\n",
              "1         1     0          124  3869200167        2374        27\n",
              "2         1     0           63  3869200167        2553        28\n",
              "3         1     0           64  3869200167        2558        19\n",
              "4         1     0           64  3869200167        2760        25\n",
              "...     ...   ...          ...         ...         ...       ...\n",
              "14995     1     1            4  3869200316        3399         9\n",
              "14996     1     1           17  3869200316        3400        15\n",
              "14997     1     1           10  3869200316        3530        16\n",
              "14998     1     1            8  3869200316        3533        18\n",
              "14999     1     0          139  3869200316        3539         0\n",
              "\n",
              "[15000 rows x 6 columns]"
            ],
            "text/html": [
              "\n",
              "  <div id=\"df-3f6711d1-49a8-4d90-8133-41b5f3b939d5\">\n",
              "    <div class=\"colab-df-container\">\n",
              "      <div>\n",
              "<style scoped>\n",
              "    .dataframe tbody tr th:only-of-type {\n",
              "        vertical-align: middle;\n",
              "    }\n",
              "\n",
              "    .dataframe tbody tr th {\n",
              "        vertical-align: top;\n",
              "    }\n",
              "\n",
              "    .dataframe thead th {\n",
              "        text-align: right;\n",
              "    }\n",
              "</style>\n",
              "<table border=\"1\" class=\"dataframe\">\n",
              "  <thead>\n",
              "    <tr style=\"text-align: right;\">\n",
              "      <th></th>\n",
              "      <th>HEAD</th>\n",
              "      <th>FPGA</th>\n",
              "      <th>TDC_CHANNEL</th>\n",
              "      <th>ORBIT_CNT</th>\n",
              "      <th>BX_COUNTER</th>\n",
              "      <th>TDC_MEAS</th>\n",
              "    </tr>\n",
              "  </thead>\n",
              "  <tbody>\n",
              "    <tr>\n",
              "      <th>0</th>\n",
              "      <td>1</td>\n",
              "      <td>0</td>\n",
              "      <td>123</td>\n",
              "      <td>3869200167</td>\n",
              "      <td>2374</td>\n",
              "      <td>26</td>\n",
              "    </tr>\n",
              "    <tr>\n",
              "      <th>1</th>\n",
              "      <td>1</td>\n",
              "      <td>0</td>\n",
              "      <td>124</td>\n",
              "      <td>3869200167</td>\n",
              "      <td>2374</td>\n",
              "      <td>27</td>\n",
              "    </tr>\n",
              "    <tr>\n",
              "      <th>2</th>\n",
              "      <td>1</td>\n",
              "      <td>0</td>\n",
              "      <td>63</td>\n",
              "      <td>3869200167</td>\n",
              "      <td>2553</td>\n",
              "      <td>28</td>\n",
              "    </tr>\n",
              "    <tr>\n",
              "      <th>3</th>\n",
              "      <td>1</td>\n",
              "      <td>0</td>\n",
              "      <td>64</td>\n",
              "      <td>3869200167</td>\n",
              "      <td>2558</td>\n",
              "      <td>19</td>\n",
              "    </tr>\n",
              "    <tr>\n",
              "      <th>4</th>\n",
              "      <td>1</td>\n",
              "      <td>0</td>\n",
              "      <td>64</td>\n",
              "      <td>3869200167</td>\n",
              "      <td>2760</td>\n",
              "      <td>25</td>\n",
              "    </tr>\n",
              "    <tr>\n",
              "      <th>...</th>\n",
              "      <td>...</td>\n",
              "      <td>...</td>\n",
              "      <td>...</td>\n",
              "      <td>...</td>\n",
              "      <td>...</td>\n",
              "      <td>...</td>\n",
              "    </tr>\n",
              "    <tr>\n",
              "      <th>14995</th>\n",
              "      <td>1</td>\n",
              "      <td>1</td>\n",
              "      <td>4</td>\n",
              "      <td>3869200316</td>\n",
              "      <td>3399</td>\n",
              "      <td>9</td>\n",
              "    </tr>\n",
              "    <tr>\n",
              "      <th>14996</th>\n",
              "      <td>1</td>\n",
              "      <td>1</td>\n",
              "      <td>17</td>\n",
              "      <td>3869200316</td>\n",
              "      <td>3400</td>\n",
              "      <td>15</td>\n",
              "    </tr>\n",
              "    <tr>\n",
              "      <th>14997</th>\n",
              "      <td>1</td>\n",
              "      <td>1</td>\n",
              "      <td>10</td>\n",
              "      <td>3869200316</td>\n",
              "      <td>3530</td>\n",
              "      <td>16</td>\n",
              "    </tr>\n",
              "    <tr>\n",
              "      <th>14998</th>\n",
              "      <td>1</td>\n",
              "      <td>1</td>\n",
              "      <td>8</td>\n",
              "      <td>3869200316</td>\n",
              "      <td>3533</td>\n",
              "      <td>18</td>\n",
              "    </tr>\n",
              "    <tr>\n",
              "      <th>14999</th>\n",
              "      <td>1</td>\n",
              "      <td>0</td>\n",
              "      <td>139</td>\n",
              "      <td>3869200316</td>\n",
              "      <td>3539</td>\n",
              "      <td>0</td>\n",
              "    </tr>\n",
              "  </tbody>\n",
              "</table>\n",
              "<p>15000 rows × 6 columns</p>\n",
              "</div>\n",
              "      <button class=\"colab-df-convert\" onclick=\"convertToInteractive('df-3f6711d1-49a8-4d90-8133-41b5f3b939d5')\"\n",
              "              title=\"Convert this dataframe to an interactive table.\"\n",
              "              style=\"display:none;\">\n",
              "        \n",
              "  <svg xmlns=\"http://www.w3.org/2000/svg\" height=\"24px\"viewBox=\"0 0 24 24\"\n",
              "       width=\"24px\">\n",
              "    <path d=\"M0 0h24v24H0V0z\" fill=\"none\"/>\n",
              "    <path d=\"M18.56 5.44l.94 2.06.94-2.06 2.06-.94-2.06-.94-.94-2.06-.94 2.06-2.06.94zm-11 1L8.5 8.5l.94-2.06 2.06-.94-2.06-.94L8.5 2.5l-.94 2.06-2.06.94zm10 10l.94 2.06.94-2.06 2.06-.94-2.06-.94-.94-2.06-.94 2.06-2.06.94z\"/><path d=\"M17.41 7.96l-1.37-1.37c-.4-.4-.92-.59-1.43-.59-.52 0-1.04.2-1.43.59L10.3 9.45l-7.72 7.72c-.78.78-.78 2.05 0 2.83L4 21.41c.39.39.9.59 1.41.59.51 0 1.02-.2 1.41-.59l7.78-7.78 2.81-2.81c.8-.78.8-2.07 0-2.86zM5.41 20L4 18.59l7.72-7.72 1.47 1.35L5.41 20z\"/>\n",
              "  </svg>\n",
              "      </button>\n",
              "      \n",
              "  <style>\n",
              "    .colab-df-container {\n",
              "      display:flex;\n",
              "      flex-wrap:wrap;\n",
              "      gap: 12px;\n",
              "    }\n",
              "\n",
              "    .colab-df-convert {\n",
              "      background-color: #E8F0FE;\n",
              "      border: none;\n",
              "      border-radius: 50%;\n",
              "      cursor: pointer;\n",
              "      display: none;\n",
              "      fill: #1967D2;\n",
              "      height: 32px;\n",
              "      padding: 0 0 0 0;\n",
              "      width: 32px;\n",
              "    }\n",
              "\n",
              "    .colab-df-convert:hover {\n",
              "      background-color: #E2EBFA;\n",
              "      box-shadow: 0px 1px 2px rgba(60, 64, 67, 0.3), 0px 1px 3px 1px rgba(60, 64, 67, 0.15);\n",
              "      fill: #174EA6;\n",
              "    }\n",
              "\n",
              "    [theme=dark] .colab-df-convert {\n",
              "      background-color: #3B4455;\n",
              "      fill: #D2E3FC;\n",
              "    }\n",
              "\n",
              "    [theme=dark] .colab-df-convert:hover {\n",
              "      background-color: #434B5C;\n",
              "      box-shadow: 0px 1px 3px 1px rgba(0, 0, 0, 0.15);\n",
              "      filter: drop-shadow(0px 1px 2px rgba(0, 0, 0, 0.3));\n",
              "      fill: #FFFFFF;\n",
              "    }\n",
              "  </style>\n",
              "\n",
              "      <script>\n",
              "        const buttonEl =\n",
              "          document.querySelector('#df-3f6711d1-49a8-4d90-8133-41b5f3b939d5 button.colab-df-convert');\n",
              "        buttonEl.style.display =\n",
              "          google.colab.kernel.accessAllowed ? 'block' : 'none';\n",
              "\n",
              "        async function convertToInteractive(key) {\n",
              "          const element = document.querySelector('#df-3f6711d1-49a8-4d90-8133-41b5f3b939d5');\n",
              "          const dataTable =\n",
              "            await google.colab.kernel.invokeFunction('convertToInteractive',\n",
              "                                                     [key], {});\n",
              "          if (!dataTable) return;\n",
              "\n",
              "          const docLinkHtml = 'Like what you see? Visit the ' +\n",
              "            '<a target=\"_blank\" href=https://colab.research.google.com/notebooks/data_table.ipynb>data table notebook</a>'\n",
              "            + ' to learn more about interactive tables.';\n",
              "          element.innerHTML = '';\n",
              "          dataTable['output_type'] = 'display_data';\n",
              "          await google.colab.output.renderOutput(dataTable, element);\n",
              "          const docLink = document.createElement('div');\n",
              "          docLink.innerHTML = docLinkHtml;\n",
              "          element.appendChild(docLink);\n",
              "        }\n",
              "      </script>\n",
              "    </div>\n",
              "  </div>\n",
              "  "
            ]
          },
          "metadata": {},
          "execution_count": 5
        }
      ],
      "source": [
        "N = 15000\n",
        "df = pd.read_csv(\"/content/data/data_000637.txt\", sep=\",\")\n",
        "df = df.iloc[:N, :]\n",
        "df"
      ]
    },
    {
      "cell_type": "markdown",
      "metadata": {
        "id": "elIuY5BUu3Z6"
      },
      "source": [
        "2\\. Estimate the number of BX in a ORBIT (the value `x`).\n",
        "\n",
        "*Hint*: check when the BX counter reaches the maximum value before being reset to 0."
      ]
    },
    {
      "cell_type": "code",
      "execution_count": 8,
      "metadata": {
        "colab": {
          "base_uri": "https://localhost:8080/"
        },
        "id": "YSRC97OFu3Z6",
        "outputId": "5863da8b-da40-4c6b-8b14-7c1979810c4e"
      },
      "outputs": [
        {
          "output_type": "stream",
          "name": "stdout",
          "text": [
            "at the index No. 2893, BX counter reaches the maximum value before being reset to 0\n"
          ]
        }
      ],
      "source": [
        "x = df[df['BX_COUNTER']==0].index[0] - 1\n",
        "print(f\"at the index No. {x}, BX counter reaches the maximum value before being reset to 0\")"
      ]
    },
    {
      "cell_type": "markdown",
      "metadata": {
        "id": "81uR2iZGu3Z6"
      },
      "source": [
        "3\\. Create a new column with the absolute time in ns (as a combination of the other three columns with timing information) since the beginning of the data acquisition, and convert the new column to a Time Series."
      ]
    },
    {
      "cell_type": "code",
      "execution_count": 18,
      "metadata": {
        "colab": {
          "base_uri": "https://localhost:8080/"
        },
        "id": "wGsVvPMku3Z7",
        "outputId": "4f994477-33ca-4872-9316-71599bf323b0"
      },
      "outputs": [
        {
          "output_type": "execute_result",
          "data": {
            "text/plain": [
              "0       2006-10-14 09:50:21.766666752\n",
              "1       2006-10-14 09:50:22.600000000\n",
              "2       2006-10-14 11:04:58.433333248\n",
              "3       2006-10-14 11:06:55.933333248\n",
              "4       2006-10-14 12:31:10.933333248\n",
              "                     ...             \n",
              "14995   2006-10-14 16:57:57.300000000\n",
              "14996   2006-10-14 16:58:27.300000000\n",
              "14997   2006-10-14 17:52:38.133333248\n",
              "14998   2006-10-14 17:53:54.800000000\n",
              "14999   2006-10-14 17:56:09.800000000\n",
              "Name: ABS_TIME, Length: 15000, dtype: datetime64[ns]"
            ]
          },
          "metadata": {},
          "execution_count": 18
        }
      ],
      "source": [
        "df['ABS_TIME'] = 0.3*df['ORBIT_CNT'] + 25*(df['TDC_MEAS'])/30 + 25*df['BX_COUNTER']\n",
        "ts = pd.to_datetime(df['ABS_TIME'], unit='s')\n",
        "ts"
      ]
    },
    {
      "cell_type": "markdown",
      "metadata": {
        "id": "FuJBUaWDu3Z7"
      },
      "source": [
        "4\\. Find out the duration of the data taking in hours, minutes and seconds, by using the features of the Time Series. Perform this check reading the whole dataset."
      ]
    },
    {
      "cell_type": "code",
      "execution_count": 28,
      "metadata": {
        "colab": {
          "base_uri": "https://localhost:8080/"
        },
        "id": "lx_ViyHvu3Z7",
        "outputId": "4316b4f9-7c51-4d68-bfab-d144278fcfa5"
      },
      "outputs": [
        {
          "output_type": "stream",
          "name": "stdout",
          "text": [
            "hours: 8.10\n",
            "minutes: 485.8\n",
            "seconds: 29148\n"
          ]
        }
      ],
      "source": [
        "dif = ts[14999]-ts[0]\n",
        "sec = dif.seconds\n",
        "minutes = sec / 60\n",
        "hours = minutes / 60\n",
        "print(f\"hours: {hours:.2f}\")\n",
        "print(f\"minutes: {minutes}\")\n",
        "print(f\"seconds: {sec}\")"
      ]
    },
    {
      "cell_type": "markdown",
      "metadata": {
        "id": "6wE8j-BTu3Z7"
      },
      "source": [
        "5\\. Use the `.groupby()` method to find out the noisy channels, i.e. the TDC channels with most counts (print to screen the top 3 and the corresponding counts)"
      ]
    },
    {
      "cell_type": "code",
      "execution_count": 57,
      "metadata": {
        "colab": {
          "base_uri": "https://localhost:8080/"
        },
        "id": "KPgdDrLsu3Z7",
        "outputId": "e4632683-0a0c-430c-c058-dbe684054682"
      },
      "outputs": [
        {
          "output_type": "stream",
          "name": "stdout",
          "text": [
            "The most noisy channel: 139, counts: 1268\n",
            "The second most noisy channel: 64, counts: 752\n",
            "The third most noisy channel: 63, counts: 749\n"
          ]
        }
      ],
      "source": [
        "channels = df.groupby(['TDC_CHANNEL']).count()['ORBIT_CNT'].to_dict()\n",
        "top_three = sorted(channels.items(), key=lambda item: item[1])[::-1][:3]\n",
        "print(f\"The most noisy channel: {top_three[0][0]}, counts: {top_three[0][1]}\")\n",
        "print(f\"The second most noisy channel: {top_three[1][0]}, counts: {top_three[1][1]}\")\n",
        "print(f\"The third most noisy channel: {top_three[2][0]}, counts: {top_three[2][1]}\")"
      ]
    },
    {
      "cell_type": "markdown",
      "metadata": {
        "id": "EIGPcXENu3Z8"
      },
      "source": [
        "6\\. Count the number of non-empty orbits (i.e. the number of orbits with at least one hit)."
      ]
    },
    {
      "cell_type": "code",
      "execution_count": 59,
      "metadata": {
        "colab": {
          "base_uri": "https://localhost:8080/"
        },
        "id": "HodP_eZ1u3Z8",
        "outputId": "38368c8b-97bf-425e-8b8c-949c17e1f73e"
      },
      "outputs": [
        {
          "output_type": "execute_result",
          "data": {
            "text/plain": [
              "14993"
            ]
          },
          "metadata": {},
          "execution_count": 59
        }
      ],
      "source": [
        "non_empty = df[df['BX_COUNTER']!=0].count()['BX_COUNTER']\n",
        "non_empty"
      ]
    },
    {
      "cell_type": "markdown",
      "metadata": {
        "id": "102h6FPXu3Z8"
      },
      "source": [
        "7\\. Count the number of unique orbits with at least one measurement from TDC_CHANNEL=139."
      ]
    },
    {
      "cell_type": "code",
      "execution_count": 75,
      "metadata": {
        "colab": {
          "base_uri": "https://localhost:8080/"
        },
        "id": "sAoT316Wu3Z8",
        "outputId": "c2f34e27-dc7e-41f0-c802-ac5c91f39337"
      },
      "outputs": [
        {
          "output_type": "stream",
          "name": "stdout",
          "text": [
            "78\n"
          ]
        }
      ],
      "source": [
        "numbers = len(np.unique(df[(df['TDC_CHANNEL']==139) & (df['BX_COUNTER']!=0)]['ORBIT_CNT']))\n",
        "print(numbers)"
      ]
    },
    {
      "cell_type": "markdown",
      "metadata": {
        "id": "Qtv2GNXJu3Z8"
      },
      "source": [
        "8\\. Create two Series (one for each FPGA) that have the TDC channel as index, and the number of counts for the corresponding TDC channel as values."
      ]
    },
    {
      "cell_type": "code",
      "execution_count": 83,
      "metadata": {
        "colab": {
          "base_uri": "https://localhost:8080/"
        },
        "id": "uX5KOeBku3Z8",
        "outputId": "dac97956-fe84-4644-d0f2-fb344da7d56a"
      },
      "outputs": [
        {
          "output_type": "execute_result",
          "data": {
            "text/plain": [
              "FPGA  TDC_CHANNEL\n",
              "0     1                8\n",
              "      2               16\n",
              "      3               16\n",
              "      4               19\n",
              "      5               19\n",
              "                    ... \n",
              "1     125              6\n",
              "      126              7\n",
              "      127             16\n",
              "      128             18\n",
              "      139            389\n",
              "Name: HEAD, Length: 241, dtype: int64"
            ]
          },
          "metadata": {},
          "execution_count": 83
        }
      ],
      "source": [
        "data = df.groupby([\"FPGA\", \"TDC_CHANNEL\"]).count()['HEAD']\n",
        "serie1 = data[0]\n",
        "serie2 = data[1]\n",
        "data"
      ]
    },
    {
      "cell_type": "markdown",
      "metadata": {
        "id": "7jZ-kXi3u3Z9"
      },
      "source": [
        "9\\. **Optional:** Create two histograms (one for each FPGA) that show the number of counts for each TDC channel."
      ]
    },
    {
      "cell_type": "code",
      "execution_count": 90,
      "metadata": {
        "colab": {
          "base_uri": "https://localhost:8080/",
          "height": 573
        },
        "id": "6K_p1UYUu3Z9",
        "outputId": "4911e535-5020-4dfa-fc47-52d7c2ac1e4c"
      },
      "outputs": [
        {
          "output_type": "display_data",
          "data": {
            "text/plain": [
              "<Figure size 432x288 with 1 Axes>"
            ],
            "image/png": "[encoded data removed]"
          },
          "metadata": {
            "needs_background": "light"
          }
        },
        {
          "output_type": "display_data",
          "data": {
            "text/plain": [
              "<Figure size 432x288 with 1 Axes>"
            ],
            "image/png": "[encoded data removed]"
          },
          "metadata": {
            "needs_background": "light"
          }
        }
      ],
      "source": [
        "import matplotlib.pyplot as plt\n",
        "plt.hist(serie1)\n",
        "plt.title(\"FPGA=0\")\n",
        "plt.xlabel(\"Number of counts of the corresponding TDC channel\")\n",
        "plt.show()\n",
        "plt.hist(serie2)\n",
        "plt.title(\"FPGA=1\")\n",
        "plt.xlabel(\"Number of counts of the corresponding TDC channel\")\n",
        "plt.show()"
      ]
    }
  ],
  "metadata": {
    "kernelspec": {
      "display_name": "Python 3",
      "language": "python",
      "name": "python3"
    },
    "language_info": {
      "codemirror_mode": {
        "name": "ipython",
        "version": 3
      },
      "file_extension": ".py",
      "mimetype": "text/x-python",
      "name": "python",
      "nbconvert_exporter": "python",
      "pygments_lexer": "ipython3",
      "version": "3.8.5"
    },
    "colab": {
      "provenance": []
    }
  },
  "nbformat": 4,
  "nbformat_minor": 0
}