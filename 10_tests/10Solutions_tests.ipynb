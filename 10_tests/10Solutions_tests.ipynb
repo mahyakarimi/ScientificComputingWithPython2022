{
  "cells": [
    {
      "cell_type": "markdown",
      "metadata": {
        "id": "364gKwx_3pen"
      },
      "source": [
        "1\\. **Hurricanes per Year**\n",
        "\n",
        "The number of hurricanes in 2005 was 15. The historic average is 6.3. Is this number signficantly different?\n",
        "- Assume the number of hurricanes is random, i.e. follows the Poisson distribution.\n",
        "- Assume as statistically significant a probability that has a Z score of 3 or larger with respect a normal distribution.\n",
        "\n",
        "**Hint**: compute the probability that in a single year are observed 15 or more hurricances."
      ]
    },
    {
      "cell_type": "code",
      "source": [
        "import numpy as np\n",
        "import math\n",
        "import scipy.stats as st"
      ],
      "metadata": {
        "id": "sI_rK5Sg4xSD"
      },
      "execution_count": 5,
      "outputs": []
    },
    {
      "cell_type": "code",
      "execution_count": 3,
      "metadata": {
        "id": "x5t-ni9w3pes"
      },
      "outputs": [],
      "source": [
        "def poisson(Lambda, k):\n",
        "  return Lambda**k * np.e**(-Lambda) / math.factorial(k)"
      ]
    },
    {
      "cell_type": "code",
      "source": [
        "prob = 0\n",
        "for i in range(15, 30):\n",
        "  prob += poisson(Lambda=6.3, k=i)\n",
        "print(prob)"
      ],
      "metadata": {
        "colab": {
          "base_uri": "https://localhost:8080/"
        },
        "id": "gR64d3XD5O5N",
        "outputId": "ec722a35-b53a-4322-b332-05cae5401f88"
      },
      "execution_count": 4,
      "outputs": [
        {
          "output_type": "execute_result",
          "data": {
            "text/plain": [
              "0.002217122781787767"
            ]
          },
          "metadata": {},
          "execution_count": 4
        }
      ]
    },
    {
      "cell_type": "code",
      "source": [
        "prob_base = 1 - st.norm.cdf(3)\n",
        "print(prob_base)"
      ],
      "metadata": {
        "colab": {
          "base_uri": "https://localhost:8080/"
        },
        "id": "ieQqUWA_5iSx",
        "outputId": "ec0eb363-ee05-4d09-c483-8ecc75f135fa"
      },
      "execution_count": 8,
      "outputs": [
        {
          "output_type": "stream",
          "name": "stdout",
          "text": [
            "0.0013498980316301035\n"
          ]
        }
      ]
    },
    {
      "cell_type": "markdown",
      "source": [
        "Answer: Since prob >= prob_base, then it is significant."
      ],
      "metadata": {
        "id": "v8oRfJXx6Jbw"
      }
    },
    {
      "cell_type": "markdown",
      "metadata": {
        "id": "ekvgj_pb3pet"
      },
      "source": [
        "2\\. **Pairwise t-test**\n",
        "\n",
        "In an experiment, a group of 10 individuals agreed to participate in a study of blood pressure changes following exposure to halogen lighting. Resting systolic blood pressure was recorded for each individual. The participants were then exposed to 20 minutes in a room lit only by halogen lamps. A post-exposure systolic blood pressure reading was recorded for each individual. The results are presented in the following data set:\n",
        "\n",
        "```python\n",
        "pre = np.array([120, 132, 120, 110, 115, 128, 120, 112, 110, 100])\n",
        "post = np.array([140, 156, 145, 130, 117, 148, 137, 119, 127, 135])\n",
        "```\n",
        "\n",
        "Determine whether the change in blood pressures within our sample was statistically significant.\n",
        "\n",
        "**Hint:**\n",
        "in this case, the Student's $t$-test should be performed to compare the two datasets.\n",
        "Use the following test statistics:\n",
        "\n",
        "$$T = \\frac{\\bar{x}_1 - \\bar{x}_2}{\\sigma \\sqrt{\\frac{2}{n}}}$$\n",
        "\n",
        "and \n",
        "\n",
        "$$\\sigma = \\sqrt{\\frac{\\sigma_1^2 + \\sigma_2^2}{2}}$$"
      ]
    },
    {
      "cell_type": "code",
      "execution_count": 12,
      "metadata": {
        "colab": {
          "base_uri": "https://localhost:8080/"
        },
        "id": "4T4QKPci3peu",
        "outputId": "695ace3f-28f0-43f0-d99f-36577f03585c"
      },
      "outputs": [
        {
          "output_type": "execute_result",
          "data": {
            "text/plain": [
              "3.991846326292112"
            ]
          },
          "metadata": {},
          "execution_count": 12
        }
      ],
      "source": [
        "pre = np.array([120, 132, 120, 110, 115, 128, 120, 112, 110, 100])\n",
        "post = np.array([140, 156, 145, 130, 117, 148, 137, 119, 127, 135])\n",
        "x_bar_1 = np.mean(pre)\n",
        "x_bar_2 = np.mean(post)\n",
        "sigma_1 = np.std(pre)\n",
        "sigma_2 = np.std(post)\n",
        "sigma = ((sigma_1**2 + sigma_2**2) / 2)**0.5\n",
        "T = abs((x_bar_1 - x_bar_2) / (sigma * (np.sqrt(2/len(pre)))))\n",
        "T"
      ]
    },
    {
      "cell_type": "code",
      "source": [
        "t_crit = st.t.ppf(q=0.975, df=len(pre)+len(post)-1)\n",
        "t_crit"
      ],
      "metadata": {
        "colab": {
          "base_uri": "https://localhost:8080/"
        },
        "id": "22YcWFHo6846",
        "outputId": "798f655c-54f4-4aa8-fcce-e50308e7ee6c"
      },
      "execution_count": 18,
      "outputs": [
        {
          "output_type": "execute_result",
          "data": {
            "text/plain": [
              "2.093024054408263"
            ]
          },
          "metadata": {},
          "execution_count": 18
        }
      ]
    },
    {
      "cell_type": "markdown",
      "source": [
        "Answer: Since T >= t_crit, then the change is significant."
      ],
      "metadata": {
        "id": "TvB1hRTu7-dA"
      }
    },
    {
      "cell_type": "markdown",
      "metadata": {
        "id": "zwmhRzu23pev"
      },
      "source": [
        "3\\. **Curve fitting of temperature in Alaska** \n",
        "\n",
        "The temperature extremes in Alaska for each month, starting in January, are given by (in degrees Celcius):\n",
        "\n",
        "max:  `17,  19,  21,  28,  33,  38, 37,  37,  31,  23,  19,  18`\n",
        "\n",
        "min: `-62, -59, -56, -46, -32, -18, -9, -13, -25, -46, -52, -58`\n",
        "\n",
        "* Plot these temperatures.\n",
        "* Find a suitable a function that can describe min and max temperatures. \n",
        "* Fit this function to the data with `scipy.optimize.curve_fit()`.\n",
        "* Plot the result. Is the fit reasonable? If not, why?\n",
        "* Is the time offset for min and max temperatures the same within the fit accuracy?"
      ]
    },
    {
      "cell_type": "code",
      "execution_count": 22,
      "metadata": {
        "colab": {
          "base_uri": "https://localhost:8080/",
          "height": 265
        },
        "id": "6KeBZD5A3pev",
        "outputId": "cd34f4e1-43d6-41c8-e57d-852150c2bf6e"
      },
      "outputs": [
        {
          "output_type": "display_data",
          "data": {
            "text/plain": [
              "<Figure size 432x288 with 1 Axes>"
            ],
            "image/png": "[encoded data removed]"
          },
          "metadata": {
            "needs_background": "light"
          }
        }
      ],
      "source": [
        "import matplotlib.pyplot as plt\n",
        "from scipy.optimize import curve_fit\n",
        "max_t = [17, 19, 21, 28, 33, 38, 37, 37, 31, 23, 19, 18]\n",
        "min_t = [-62, -59, -56, -46, -32, -18, -9, -13, -25, -46, -52, -58]\n",
        "t = [i for i in range(0, len(max_t))]\n",
        "\n",
        "plt.plot(t, min_t)\n",
        "plt.plot(t, max_t)\n",
        "plt.legend(['min', 'max'])\n",
        "plt.show()"
      ]
    },
    {
      "cell_type": "code",
      "source": [
        "def cos_func(x, D, E):\n",
        "    y = D*np.cos(int(E)*x)\n",
        "    return y\n",
        "parameters, covariance = curve_fit(f=cos_func, xdata=t, ydata=min_t)\n",
        "fit_D = parameters[0]\n",
        "fit_E = parameters[1]\n",
        "\n",
        "fit_cosine = cos_func(t, fit_D, fit_E)\n",
        "\n",
        "plt.plot(t, min_t, 'o', label='data')\n",
        "plt.plot(t, fit_cosine, '-', label='fit')\n",
        "plt.show()"
      ],
      "metadata": {
        "colab": {
          "base_uri": "https://localhost:8080/",
          "height": 320
        },
        "id": "gaqCFixA8nuZ",
        "outputId": "7cf34ff9-d438-464e-8bd6-496c0bc7c1c0"
      },
      "execution_count": 32,
      "outputs": [
        {
          "output_type": "stream",
          "name": "stderr",
          "text": [
            "/usr/local/lib/python3.8/dist-packages/scipy/optimize/minpack.py:833: OptimizeWarning: Covariance of the parameters could not be estimated\n",
            "  warnings.warn('Covariance of the parameters could not be estimated',\n"
          ]
        },
        {
          "output_type": "display_data",
          "data": {
            "text/plain": [
              "<Figure size 432x288 with 1 Axes>"
            ],
            "image/png": "[encoded data removed]"
          },
          "metadata": {
            "needs_background": "light"
          }
        }
      ]
    },
    {
      "cell_type": "code",
      "source": [
        "def cos_func(x, D, E):\n",
        "    y = D*np.cos(int(E)*x)\n",
        "    return y\n",
        "parameters, covariance = curve_fit(f=cos_func, xdata=t, ydata=max_t)\n",
        "fit_D = parameters[0]\n",
        "fit_E = parameters[1]\n",
        "\n",
        "fit_cosine = cos_func(t, fit_D, fit_E)\n",
        "\n",
        "plt.plot(t, max_t, 'o', label='data')\n",
        "plt.plot(t, fit_cosine, '-', label='fit')\n",
        "plt.show()"
      ],
      "metadata": {
        "colab": {
          "base_uri": "https://localhost:8080/",
          "height": 320
        },
        "id": "s4juqP6797hl",
        "outputId": "77b1abcc-ff73-4498-e241-5317ca80186e"
      },
      "execution_count": 33,
      "outputs": [
        {
          "output_type": "stream",
          "name": "stderr",
          "text": [
            "/usr/local/lib/python3.8/dist-packages/scipy/optimize/minpack.py:833: OptimizeWarning: Covariance of the parameters could not be estimated\n",
            "  warnings.warn('Covariance of the parameters could not be estimated',\n"
          ]
        },
        {
          "output_type": "display_data",
          "data": {
            "text/plain": [
              "<Figure size 432x288 with 1 Axes>"
            ],
            "image/png": "[encoded data removed]"
          },
          "metadata": {
            "needs_background": "light"
          }
        }
      ]
    },
    {
      "cell_type": "code",
      "source": [
        "guess = [10, 0.7]\n",
        "parameters, covariance = curve_fit(f=cos_func, xdata=t, ydata=max_t, p0=guess)\n",
        "fit_D = parameters[0]\n",
        "fit_E = parameters[1]\n",
        "\n",
        "fit_cosine = cos_func(t, fit_D, fit_E)\n",
        "plt.plot(t, max_t, 'o', label='data')\n",
        "plt.plot(t, fit_cosine, '-', label='fit')\n",
        "plt.show()"
      ],
      "metadata": {
        "colab": {
          "base_uri": "https://localhost:8080/",
          "height": 320
        },
        "id": "Sg3f5o3s-Dsj",
        "outputId": "76bb6f85-6d08-45e3-bef7-4b40ff27a221"
      },
      "execution_count": 45,
      "outputs": [
        {
          "output_type": "stream",
          "name": "stderr",
          "text": [
            "/usr/local/lib/python3.8/dist-packages/scipy/optimize/minpack.py:833: OptimizeWarning: Covariance of the parameters could not be estimated\n",
            "  warnings.warn('Covariance of the parameters could not be estimated',\n"
          ]
        },
        {
          "output_type": "display_data",
          "data": {
            "text/plain": [
              "<Figure size 432x288 with 1 Axes>"
            ],
            "image/png": "[encoded data removed]"
          },
          "metadata": {
            "needs_background": "light"
          }
        }
      ]
    },
    {
      "cell_type": "markdown",
      "metadata": {
        "id": "aDWhXsUY3pew"
      },
      "source": [
        "4\\. **Fit the residues**\n",
        "\n",
        "Read the `data/residuals_261.pkl` file. If you haven't got it already, download it from here:\n",
        "\n",
        "```bash\n",
        "wget https://www.dropbox.com/s/3uqleyc3wyz52tr/residuals_261.pkl -P data/\n",
        "```\n",
        "\n",
        "The feature named `residual` contains the residuals (defined as $y_i - \\hat{y}_i$) of a linear regression as a function of the independent variable `distances`.\n",
        "\n",
        "- Considering only the \"residual\" feature, create an histogram with the appropriate binning and plot it.\n",
        "- Set the appropriate Poisson uncertainty for each bin (thus, for each bin, $\\sigma_i = \\sqrt{n_i}$, where $n_i$ is the number of entries in each bin)\n",
        "- By looking at the distribution of the residuals, define an appropriate function and fit it to the histogram of the residuals\n",
        "- Perform a goodness-of-fit test. Is the p-value of the fit satisfactory?"
      ]
    },
    {
      "cell_type": "code",
      "execution_count": 46,
      "metadata": {
        "colab": {
          "base_uri": "https://localhost:8080/"
        },
        "id": "ETfriqHq3pex",
        "outputId": "da91105c-d710-4661-9294-6d556e86b6ae"
      },
      "outputs": [
        {
          "output_type": "stream",
          "name": "stdout",
          "text": [
            "--2023-01-17 23:09:49--  https://www.dropbox.com/s/3uqleyc3wyz52tr/residuals_261.pkl\n",
            "Resolving www.dropbox.com (www.dropbox.com)... 162.125.1.18, 2620:100:6016:18::a27d:112\n",
            "Connecting to www.dropbox.com (www.dropbox.com)|162.125.1.18|:443... connected.\n",
            "HTTP request sent, awaiting response... 302 Found\n",
            "Location: /s/raw/3uqleyc3wyz52tr/residuals_261.pkl [following]\n",
            "--2023-01-17 23:09:49--  https://www.dropbox.com/s/raw/3uqleyc3wyz52tr/residuals_261.pkl\n",
            "Reusing existing connection to www.dropbox.com:443.\n",
            "HTTP request sent, awaiting response... 302 Found\n",
            "Location: https://uc9a3533b9d1c8b144e537f9ef2f.dl.dropboxusercontent.com/cd/0/inline/B0y3mvxTU15HdIIIGOG0_iVhfsYwxnSPQKkoOu0Ypuu4i07EeR2HFqXs-vv6zU79NFwFL15dUkU9f_iIqCjfN_KmsqtKCJHQSX2H2-3x2T0ZUBXo5y1F-d4MoNvjcL7CMiqYfx4n2WhYfPNnnps-VurE_54ABP2pyepy2YZf8RbHng/file# [following]\n",
            "--2023-01-17 23:09:50--  https://uc9a3533b9d1c8b144e537f9ef2f.dl.dropboxusercontent.com/cd/0/inline/B0y3mvxTU15HdIIIGOG0_iVhfsYwxnSPQKkoOu0Ypuu4i07EeR2HFqXs-vv6zU79NFwFL15dUkU9f_iIqCjfN_KmsqtKCJHQSX2H2-3x2T0ZUBXo5y1F-d4MoNvjcL7CMiqYfx4n2WhYfPNnnps-VurE_54ABP2pyepy2YZf8RbHng/file\n",
            "Resolving uc9a3533b9d1c8b144e537f9ef2f.dl.dropboxusercontent.com (uc9a3533b9d1c8b144e537f9ef2f.dl.dropboxusercontent.com)... 162.125.1.15, 2620:100:6016:15::a27d:10f\n",
            "Connecting to uc9a3533b9d1c8b144e537f9ef2f.dl.dropboxusercontent.com (uc9a3533b9d1c8b144e537f9ef2f.dl.dropboxusercontent.com)|162.125.1.15|:443... connected.\n",
            "HTTP request sent, awaiting response... 302 Found\n",
            "Location: /cd/0/inline2/B0x6bOPNdKVZg0y3AyvBNl4dJ6oaK-Tj50O4qg0K9MqIje5d5jKMIVIizkIM2DB2IunqxzVABOKZ2lIDDeVO749GE5G_W5kJQEbZEECuDnT1ZOW54_XADd5noKUxMMdOintV5b48aRMP07e1Yr2APr2Z-KuMBuPoe3OoAPcFoAts819HAkEUKtc4lOTKhGgE8tS19mgledRe25sWOkC5BZviP2bbi-8gHbtGLRDVq5uE8BL3ercnEpxQAHdVrrJpBrsMiQ8YI-hhztDeA2FDvawUWNxtSTl7pLAr59XP__X991ynmje17RrlCodjA_TRKZyx9pn8vvosxA9eGQU2Z2jbpnJsxA-k2bkN08pvNfYBPr7JVpgiGeK4cOk2Eh9N8e6aTWUbhZ73isTnv18_lI_w8_R5IOihj9tIPGll9mzvNA/file [following]\n",
            "--2023-01-17 23:09:50--  https://uc9a3533b9d1c8b144e537f9ef2f.dl.dropboxusercontent.com/cd/0/inline2/B0x6bOPNdKVZg0y3AyvBNl4dJ6oaK-Tj50O4qg0K9MqIje5d5jKMIVIizkIM2DB2IunqxzVABOKZ2lIDDeVO749GE5G_W5kJQEbZEECuDnT1ZOW54_XADd5noKUxMMdOintV5b48aRMP07e1Yr2APr2Z-KuMBuPoe3OoAPcFoAts819HAkEUKtc4lOTKhGgE8tS19mgledRe25sWOkC5BZviP2bbi-8gHbtGLRDVq5uE8BL3ercnEpxQAHdVrrJpBrsMiQ8YI-hhztDeA2FDvawUWNxtSTl7pLAr59XP__X991ynmje17RrlCodjA_TRKZyx9pn8vvosxA9eGQU2Z2jbpnJsxA-k2bkN08pvNfYBPr7JVpgiGeK4cOk2Eh9N8e6aTWUbhZ73isTnv18_lI_w8_R5IOihj9tIPGll9mzvNA/file\n",
            "Reusing existing connection to uc9a3533b9d1c8b144e537f9ef2f.dl.dropboxusercontent.com:443.\n",
            "HTTP request sent, awaiting response... 200 OK\n",
            "Length: 178390 (174K) [application/octet-stream]\n",
            "Saving to: ‘data/residuals_261.pkl’\n",
            "\n",
            "residuals_261.pkl   100%[===================>] 174.21K  --.-KB/s    in 0.02s   \n",
            "\n",
            "2023-01-17 23:09:50 (7.40 MB/s) - ‘data/residuals_261.pkl’ saved [178390/178390]\n",
            "\n"
          ]
        }
      ],
      "source": [
        "!wget https://www.dropbox.com/s/3uqleyc3wyz52tr/residuals_261.pkl -P data/"
      ]
    },
    {
      "cell_type": "markdown",
      "metadata": {
        "id": "Pg1RIfy03pex"
      },
      "source": [
        "5\\. **Temperatures in Munich**\n",
        "\n",
        "Get the following data file:\n",
        "\n",
        "```bash\n",
        "https://www.dropbox.com/s/7gy9yjl00ymxb8h/munich_temperatures_average_with_bad_data.txt\n",
        "```\n",
        "\n",
        "which gives the temperature in Munich every day for several years.\n",
        "\n",
        "\n",
        "Fit the following function to the data:\n",
        "\n",
        "$$f(t) = a \\cos(2\\pi t + b)+c$$\n",
        "\n",
        "where $t$ is the time in years.\n",
        "\n",
        "- Make a plot of the data and the best-fit model in the range 2008 to 2012.\n",
        "\n",
        "   - What are the best-fit values of the parameters?\n",
        "\n",
        "   - What is the overall average temperature in Munich, and what are the typical daily average values predicted by the model for the coldest and hottest time of year?\n",
        "\n",
        "   - What is the meaning of the $b$ parameter, and what physical sense does it have?\n",
        "\n",
        "\n",
        "- Now fit the data with the function $g(x)$, which has 1 more parameter than $f(x)$.\n",
        "$$g(x) = a \\cos(2\\pi b t + c)+d$$\n",
        "   - What are the RSS for $f(x)$ and $g(x)$?\n",
        "   - Use the Fisher F-test to determine whether the additional parameter is motivated."
      ]
    },
    {
      "cell_type": "code",
      "execution_count": 47,
      "metadata": {
        "colab": {
          "base_uri": "https://localhost:8080/"
        },
        "id": "bIR99hjE3pey",
        "outputId": "fec5ff83-a1bc-4303-ba37-5e14e09baa28"
      },
      "outputs": [
        {
          "output_type": "stream",
          "name": "stdout",
          "text": [
            "--2023-01-17 23:10:40--  https://www.dropbox.com/s/7gy9yjl00ymxb8h/munich_temperatures_average_with_bad_data.txt\n",
            "Resolving www.dropbox.com (www.dropbox.com)... 162.125.1.18, 2620:100:6016:18::a27d:112\n",
            "Connecting to www.dropbox.com (www.dropbox.com)|162.125.1.18|:443... connected.\n",
            "HTTP request sent, awaiting response... 302 Found\n",
            "Location: /s/raw/7gy9yjl00ymxb8h/munich_temperatures_average_with_bad_data.txt [following]\n",
            "--2023-01-17 23:10:41--  https://www.dropbox.com/s/raw/7gy9yjl00ymxb8h/munich_temperatures_average_with_bad_data.txt\n",
            "Reusing existing connection to www.dropbox.com:443.\n",
            "HTTP request sent, awaiting response... 302 Found\n",
            "Location: https://ucb22abecc95ebaff407194895d5.dl.dropboxusercontent.com/cd/0/inline/B0wdc-qDW2n4A7Am9XC36zkM_puk2lXOMcOZr_wdeq3r60BQLOtW6nQvN9bBotdLtXqxuhjGw0vSozI6JjjuqyE-rnnkb7Tt-bWs_47wVJaZW9PKeOutlanMn2htCtPHYlx_uVPU5hDpTvJcO1n6jrBeSoRKeIf-1yH-gp8IZBt6oA/file# [following]\n",
            "--2023-01-17 23:10:41--  https://ucb22abecc95ebaff407194895d5.dl.dropboxusercontent.com/cd/0/inline/B0wdc-qDW2n4A7Am9XC36zkM_puk2lXOMcOZr_wdeq3r60BQLOtW6nQvN9bBotdLtXqxuhjGw0vSozI6JjjuqyE-rnnkb7Tt-bWs_47wVJaZW9PKeOutlanMn2htCtPHYlx_uVPU5hDpTvJcO1n6jrBeSoRKeIf-1yH-gp8IZBt6oA/file\n",
            "Resolving ucb22abecc95ebaff407194895d5.dl.dropboxusercontent.com (ucb22abecc95ebaff407194895d5.dl.dropboxusercontent.com)... 162.125.1.15, 2620:100:6016:15::a27d:10f\n",
            "Connecting to ucb22abecc95ebaff407194895d5.dl.dropboxusercontent.com (ucb22abecc95ebaff407194895d5.dl.dropboxusercontent.com)|162.125.1.15|:443... connected.\n",
            "HTTP request sent, awaiting response... 200 OK\n",
            "Length: 125482 (123K) [text/plain]\n",
            "Saving to: ‘munich_temperatures_average_with_bad_data.txt’\n",
            "\n",
            "munich_temperatures 100%[===================>] 122.54K  --.-KB/s    in 0.02s   \n",
            "\n",
            "2023-01-17 23:10:41 (5.42 MB/s) - ‘munich_temperatures_average_with_bad_data.txt’ saved [125482/125482]\n",
            "\n"
          ]
        }
      ],
      "source": [
        "!wget https://www.dropbox.com/s/7gy9yjl00ymxb8h/munich_temperatures_average_with_bad_data.txt"
      ]
    },
    {
      "cell_type": "code",
      "source": [
        "import pandas as pd\n",
        "df = pd.read_csv(\"/content/munich_temperatures_average_with_bad_data.txt\", delimiter=\" \")\n",
        "df.columns = ['c1', 'c2']"
      ],
      "metadata": {
        "id": "SmTjt7uq_J8Q"
      },
      "execution_count": 52,
      "outputs": []
    },
    {
      "cell_type": "code",
      "source": [
        "df"
      ],
      "metadata": {
        "colab": {
          "base_uri": "https://localhost:8080/",
          "height": 414
        },
        "id": "IHS1z2LJ_JQ2",
        "outputId": "0d836a36-9379-47fa-a703-705f6a4cd102"
      },
      "execution_count": 53,
      "outputs": [
        {
          "output_type": "execute_result",
          "data": {
            "text/plain": [
              "              c1        c2\n",
              "0     1995.00548  -1.61111\n",
              "1     1995.00821  -3.55556\n",
              "2     1995.01095  -9.83333\n",
              "3     1995.01369 -10.22220\n",
              "4     1995.01643  -9.50000\n",
              "...          ...       ...\n",
              "6673  2013.27379   7.33333\n",
              "6674  2013.27652  10.00000\n",
              "6675  2013.27926  10.55560\n",
              "6676  2013.28200   8.94444\n",
              "6677  2013.28474  11.16670\n",
              "\n",
              "[6678 rows x 2 columns]"
            ],
            "text/html": [
              "\n",
              "  <div id=\"df-d6524ac0-88e3-4d34-bce8-4bc288fbb50f\">\n",
              "    <div class=\"colab-df-container\">\n",
              "      <div>\n",
              "<style scoped>\n",
              "    .dataframe tbody tr th:only-of-type {\n",
              "        vertical-align: middle;\n",
              "    }\n",
              "\n",
              "    .dataframe tbody tr th {\n",
              "        vertical-align: top;\n",
              "    }\n",
              "\n",
              "    .dataframe thead th {\n",
              "        text-align: right;\n",
              "    }\n",
              "</style>\n",
              "<table border=\"1\" class=\"dataframe\">\n",
              "  <thead>\n",
              "    <tr style=\"text-align: right;\">\n",
              "      <th></th>\n",
              "      <th>c1</th>\n",
              "      <th>c2</th>\n",
              "    </tr>\n",
              "  </thead>\n",
              "  <tbody>\n",
              "    <tr>\n",
              "      <th>0</th>\n",
              "      <td>1995.00548</td>\n",
              "      <td>-1.61111</td>\n",
              "    </tr>\n",
              "    <tr>\n",
              "      <th>1</th>\n",
              "      <td>1995.00821</td>\n",
              "      <td>-3.55556</td>\n",
              "    </tr>\n",
              "    <tr>\n",
              "      <th>2</th>\n",
              "      <td>1995.01095</td>\n",
              "      <td>-9.83333</td>\n",
              "    </tr>\n",
              "    <tr>\n",
              "      <th>3</th>\n",
              "      <td>1995.01369</td>\n",
              "      <td>-10.22220</td>\n",
              "    </tr>\n",
              "    <tr>\n",
              "      <th>4</th>\n",
              "      <td>1995.01643</td>\n",
              "      <td>-9.50000</td>\n",
              "    </tr>\n",
              "    <tr>\n",
              "      <th>...</th>\n",
              "      <td>...</td>\n",
              "      <td>...</td>\n",
              "    </tr>\n",
              "    <tr>\n",
              "      <th>6673</th>\n",
              "      <td>2013.27379</td>\n",
              "      <td>7.33333</td>\n",
              "    </tr>\n",
              "    <tr>\n",
              "      <th>6674</th>\n",
              "      <td>2013.27652</td>\n",
              "      <td>10.00000</td>\n",
              "    </tr>\n",
              "    <tr>\n",
              "      <th>6675</th>\n",
              "      <td>2013.27926</td>\n",
              "      <td>10.55560</td>\n",
              "    </tr>\n",
              "    <tr>\n",
              "      <th>6676</th>\n",
              "      <td>2013.28200</td>\n",
              "      <td>8.94444</td>\n",
              "    </tr>\n",
              "    <tr>\n",
              "      <th>6677</th>\n",
              "      <td>2013.28474</td>\n",
              "      <td>11.16670</td>\n",
              "    </tr>\n",
              "  </tbody>\n",
              "</table>\n",
              "<p>6678 rows × 2 columns</p>\n",
              "</div>\n",
              "      <button class=\"colab-df-convert\" onclick=\"convertToInteractive('df-d6524ac0-88e3-4d34-bce8-4bc288fbb50f')\"\n",
              "              title=\"Convert this dataframe to an interactive table.\"\n",
              "              style=\"display:none;\">\n",
              "        \n",
              "  <svg xmlns=\"http://www.w3.org/2000/svg\" height=\"24px\"viewBox=\"0 0 24 24\"\n",
              "       width=\"24px\">\n",
              "    <path d=\"M0 0h24v24H0V0z\" fill=\"none\"/>\n",
              "    <path d=\"M18.56 5.44l.94 2.06.94-2.06 2.06-.94-2.06-.94-.94-2.06-.94 2.06-2.06.94zm-11 1L8.5 8.5l.94-2.06 2.06-.94-2.06-.94L8.5 2.5l-.94 2.06-2.06.94zm10 10l.94 2.06.94-2.06 2.06-.94-2.06-.94-.94-2.06-.94 2.06-2.06.94z\"/><path d=\"M17.41 7.96l-1.37-1.37c-.4-.4-.92-.59-1.43-.59-.52 0-1.04.2-1.43.59L10.3 9.45l-7.72 7.72c-.78.78-.78 2.05 0 2.83L4 21.41c.39.39.9.59 1.41.59.51 0 1.02-.2 1.41-.59l7.78-7.78 2.81-2.81c.8-.78.8-2.07 0-2.86zM5.41 20L4 18.59l7.72-7.72 1.47 1.35L5.41 20z\"/>\n",
              "  </svg>\n",
              "      </button>\n",
              "      \n",
              "  <style>\n",
              "    .colab-df-container {\n",
              "      display:flex;\n",
              "      flex-wrap:wrap;\n",
              "      gap: 12px;\n",
              "    }\n",
              "\n",
              "    .colab-df-convert {\n",
              "      background-color: #E8F0FE;\n",
              "      border: none;\n",
              "      border-radius: 50%;\n",
              "      cursor: pointer;\n",
              "      display: none;\n",
              "      fill: #1967D2;\n",
              "      height: 32px;\n",
              "      padding: 0 0 0 0;\n",
              "      width: 32px;\n",
              "    }\n",
              "\n",
              "    .colab-df-convert:hover {\n",
              "      background-color: #E2EBFA;\n",
              "      box-shadow: 0px 1px 2px rgba(60, 64, 67, 0.3), 0px 1px 3px 1px rgba(60, 64, 67, 0.15);\n",
              "      fill: #174EA6;\n",
              "    }\n",
              "\n",
              "    [theme=dark] .colab-df-convert {\n",
              "      background-color: #3B4455;\n",
              "      fill: #D2E3FC;\n",
              "    }\n",
              "\n",
              "    [theme=dark] .colab-df-convert:hover {\n",
              "      background-color: #434B5C;\n",
              "      box-shadow: 0px 1px 3px 1px rgba(0, 0, 0, 0.15);\n",
              "      filter: drop-shadow(0px 1px 2px rgba(0, 0, 0, 0.3));\n",
              "      fill: #FFFFFF;\n",
              "    }\n",
              "  </style>\n",
              "\n",
              "      <script>\n",
              "        const buttonEl =\n",
              "          document.querySelector('#df-d6524ac0-88e3-4d34-bce8-4bc288fbb50f button.colab-df-convert');\n",
              "        buttonEl.style.display =\n",
              "          google.colab.kernel.accessAllowed ? 'block' : 'none';\n",
              "\n",
              "        async function convertToInteractive(key) {\n",
              "          const element = document.querySelector('#df-d6524ac0-88e3-4d34-bce8-4bc288fbb50f');\n",
              "          const dataTable =\n",
              "            await google.colab.kernel.invokeFunction('convertToInteractive',\n",
              "                                                     [key], {});\n",
              "          if (!dataTable) return;\n",
              "\n",
              "          const docLinkHtml = 'Like what you see? Visit the ' +\n",
              "            '<a target=\"_blank\" href=https://colab.research.google.com/notebooks/data_table.ipynb>data table notebook</a>'\n",
              "            + ' to learn more about interactive tables.';\n",
              "          element.innerHTML = '';\n",
              "          dataTable['output_type'] = 'display_data';\n",
              "          await google.colab.output.renderOutput(dataTable, element);\n",
              "          const docLink = document.createElement('div');\n",
              "          docLink.innerHTML = docLinkHtml;\n",
              "          element.appendChild(docLink);\n",
              "        }\n",
              "      </script>\n",
              "    </div>\n",
              "  </div>\n",
              "  "
            ]
          },
          "metadata": {},
          "execution_count": 53
        }
      ]
    },
    {
      "cell_type": "code",
      "source": [
        "def function(a, b, c):\n",
        "    return a*np.cos(2*np.pi.t+b) + c\n",
        "parameters, covariance = curve_fit(f=cos_func, xdata=df['c1'], ydata=df['c2'])\n",
        "fit_D = parameters[0]\n",
        "fit_E = parameters[1]\n",
        "\n",
        "fit_cosine = function(t, fit_D, fit_E)\n",
        "\n",
        "plt.plot(t, max_t, 'o', label='data')\n",
        "plt.plot(t, fit_cosine, '-', label='fit')\n",
        "plt.show()"
      ],
      "metadata": {
        "id": "HcFGJo17_SGE"
      },
      "execution_count": 54,
      "outputs": []
    },
    {
      "cell_type": "code",
      "source": [
        "guess = [15, 1.45]\n",
        "parameters, covariance = curve_fit(f=function, xdata=df['c1'], ydata=df['c1'], p0=guess)\n",
        "fit_D = parameters[0]\n",
        "fit_E = parameters[1]\n",
        "\n",
        "fit_cosine = cos_func(t, fit_D, fit_E)\n",
        "plt.plot(t, max_t, 'o', label='data')\n",
        "plt.plot(t, fit_cosine, '-', label='fit')\n",
        "plt.show()"
      ],
      "metadata": {
        "colab": {
          "base_uri": "https://localhost:8080/",
          "height": 406
        },
        "id": "XT_yUdjY__v3",
        "outputId": "59384a97-525b-4ec0-9bdd-e3f8145238f4"
      },
      "execution_count": 64,
      "outputs": [
        {
          "output_type": "execute_result",
          "data": {
            "text/plain": [
              "[<matplotlib.lines.Line2D at 0x7fa6db17ea60>]"
            ]
          },
          "metadata": {},
          "execution_count": 64
        },
        {
          "output_type": "display_data",
          "data": {
            "text/plain": [
              "<Figure size 1440x504 with 1 Axes>"
            ],
            "image/png": "[encoded data removed]"
          },
          "metadata": {
            "needs_background": "light"
          }
        }
      ]
    }
  ],
  "metadata": {
    "kernelspec": {
      "display_name": "Python 3",
      "language": "python",
      "name": "python3"
    },
    "language_info": {
      "codemirror_mode": {
        "name": "ipython",
        "version": 3
      },
      "file_extension": ".py",
      "mimetype": "text/x-python",
      "name": "python",
      "nbconvert_exporter": "python",
      "pygments_lexer": "ipython3",
      "version": "3.8.5"
    },
    "colab": {
      "provenance": []
    }
  },
  "nbformat": 4,
  "nbformat_minor": 0
}